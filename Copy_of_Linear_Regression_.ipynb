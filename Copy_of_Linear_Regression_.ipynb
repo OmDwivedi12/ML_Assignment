{
  "nbformat": 4,
  "nbformat_minor": 0,
  "metadata": {
    "colab": {
      "provenance": []
    },
    "kernelspec": {
      "name": "python3",
      "display_name": "Python 3"
    },
    "language_info": {
      "name": "python"
    }
  },
  "cells": [
    {
      "cell_type": "code",
      "execution_count": null,
      "metadata": {
        "colab": {
          "base_uri": "https://localhost:8080/"
        },
        "id": "mLPDwCGory87",
        "outputId": "d6af9645-022f-4000-eaac-b6e3e2e046a6"
      },
      "outputs": [
        {
          "output_type": "stream",
          "name": "stdout",
          "text": [
            "Mean Squared Error (MSE) on the test set: 15586815.680007415\n",
            "Slope (Coefficient for YearsExperience): 6389.596749924767\n",
            "Intercept: 34693.82064399638\n"
          ]
        }
      ],
      "source": [
        "# Import necessary libraries\n",
        "from sklearn.model_selection import train_test_split\n",
        "from sklearn.linear_model import LinearRegression\n",
        "from sklearn.metrics import mean_squared_error\n",
        "import pandas as pd\n",
        "\n",
        "# Smaller dataset\n",
        "data = {\n",
        "    'YearsExperience': [1.1, 2.0, 3.0, 4.0, 5.0],\n",
        "    'Salary': [39343, 43525, 60150, 56957, 66029]\n",
        "}\n",
        "\n",
        "# Convert the dictionary to a DataFrame\n",
        "df = pd.DataFrame(data)\n",
        "\n",
        "# Split the data into features (X) and target (y)\n",
        "X = df[['YearsExperience']]\n",
        "y = df['Salary']\n",
        "\n",
        "# Split the data into training and testing sets using an 80-20 split\n",
        "X_train, X_test, y_train, y_test = train_test_split(X, y, test_size=0.2, random_state=42)\n",
        "\n",
        "# Initialize and fit the Linear Regression model\n",
        "model = LinearRegression()\n",
        "model.fit(X_train, y_train)\n",
        "\n",
        "# Predict the Salary for the test set\n",
        "y_pred = model.predict(X_test)\n",
        "\n",
        "# Evaluate the model's performance using Mean Squared Error (MSE)\n",
        "mse = mean_squared_error(y_test, y_pred)\n",
        "print(f\"Mean Squared Error (MSE) on the test set: {mse}\")\n",
        "\n",
        "# Optional: Print the model coefficients (slope and intercept)\n",
        "print(f\"Slope (Coefficient for YearsExperience): {model.coef_[0]}\")\n",
        "print(f\"Intercept: {model.intercept_}\")\n"
      ]
    }
  ]
}